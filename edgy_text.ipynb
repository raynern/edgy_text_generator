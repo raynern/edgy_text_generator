{
 "cells": [
  {
   "cell_type": "markdown",
   "metadata": {},
   "source": [
    "This is an edgy text generator written in Python. I wrote this to practise my knowledge of data types (lists, strings, dictionaries), functions, conditonals and dictionary comprehensions."
   ]
  },
  {
   "cell_type": "markdown",
   "metadata": {},
   "source": [
    "We will only need the re package, so let's import it."
   ]
  },
  {
   "cell_type": "code",
   "execution_count": 1,
   "metadata": {},
   "outputs": [],
   "source": [
    "import re"
   ]
  },
  {
   "cell_type": "markdown",
   "metadata": {},
   "source": [
    "The function is defined as follows, comprising the following steps:\n",
    "\n",
    "1. Strip spaces from the given string, and assign each word a value, of either 0 or 1 depending on whether the first character of each word is an \"even\" or \"odd\" character.\n",
    "2. Enumerate through the given string, and depending on the \"evenness\" and \"oddness\" of the first character of each word, coerce the first and successive characters of each word to uppercase and lowercase alternatively, or vice-versa.\n",
    "3. The resulting function takes in a given string and makes it edgy by uppercasing and lowercasing the characters alternatively, excluding spaces contained within the given string."
   ]
  },
  {
   "cell_type": "code",
   "execution_count": 2,
   "metadata": {},
   "outputs": [],
   "source": [
    "def edgy_text(string):\n",
    "    my_string = string\n",
    "    my_string_char = re.sub(r'\\s+', '', my_string)\n",
    "    my_string_list = my_string.split()\n",
    "    my_string_dict = {my_string_list[i]: (my_string_char.index(my_string_list[i]) % 2) for i in range(len(my_string_list))}\n",
    "    result_list = []\n",
    "    for i, j in my_string_dict.items():\n",
    "        switch = j\n",
    "        result_string = []\n",
    "        for c in i:\n",
    "            if switch == 0:\n",
    "                result_string.append(c.lower())\n",
    "                switch += 1\n",
    "            else:\n",
    "                result_string.append(c.upper())\n",
    "                switch -= 1\n",
    "        result_list.append(\"\".join(result_string))\n",
    "    edgy_string = \" \".join(result_list)\n",
    "    print(edgy_string)"
   ]
  },
  {
   "cell_type": "markdown",
   "metadata": {},
   "source": [
    "We apply the defined function to a sample sentence, to give us the following output:"
   ]
  },
  {
   "cell_type": "code",
   "execution_count": null,
   "metadata": {},
   "outputs": [
    {
     "name": "stdout",
     "output_type": "stream",
     "text": [
      "tHiS tOoK qUiTe SoMe TiMe tO MaKe, aNd iS RaThEr InEfFiCiEnT\n"
     ]
    }
   ],
   "source": [
    "edgy_text(\"this took quite some time to make, and is rather inefficient\")"
   ]
  }
 ],
 "metadata": {
  "kernelspec": {
   "display_name": "Python 3",
   "language": "python",
   "name": "python3"
  },
  "language_info": {
   "codemirror_mode": {
    "name": "ipython",
    "version": 3
   },
   "file_extension": ".py",
   "mimetype": "text/x-python",
   "name": "python",
   "nbconvert_exporter": "python",
   "pygments_lexer": "ipython3",
   "version": "3.7.3"
  }
 },
 "nbformat": 4,
 "nbformat_minor": 2
}
